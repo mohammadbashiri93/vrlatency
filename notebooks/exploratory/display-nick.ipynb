{
 "cells": [
  {
   "cell_type": "markdown",
   "metadata": {},
   "source": [
    "# This notebook contains the code and figures for the data from measuring display latencies"
   ]
  },
  {
   "cell_type": "markdown",
   "metadata": {},
   "source": [
    "What data do we have?\n",
    "\n",
    "    A. Light intensity over time\n",
    "    B. (A) for multiple trials\n",
    "    C. (B) for different frame rate (FR), resolution, and modes\n",
    "    D. (C) for different monitor/projector"
   ]
  },
  {
   "cell_type": "markdown",
   "metadata": {},
   "source": [
    "What information to extract?\n",
    "\n",
    "    A. How light is being shone by the monitor/projector in every trial\n",
    "    B. How does the latency changes over time\n",
    "    C. Distribution of light intensity for the whole experiment - histogram of (A)\n",
    "    D. Distribution of latencies for the whole experiment\n",
    "    E. (A, B, C, and D) across different FR, resolution, modes\n",
    "    F. (A, B, C, and D) across different monitors (For the same FR, resolution, modes)\n",
    "    G. Mean latency versus FR across across different monitors\n",
    "    H. Mean latency versus Resolution across different monitors\n",
    "    \n",
    "Related to our device: \n",
    "\n",
    "    I. What is the sampling frequency of our device"
   ]
  },
  {
   "cell_type": "markdown",
   "metadata": {},
   "source": [
    "---"
   ]
  },
  {
   "cell_type": "code",
   "execution_count": 1,
   "metadata": {},
   "outputs": [],
   "source": [
    "# %load_ext autoreload\n",
    "# %autoreload 2"
   ]
  },
  {
   "cell_type": "code",
   "execution_count": 1,
   "metadata": {},
   "outputs": [],
   "source": [
    "import pandas as pd\n",
    "import numpy as np\n",
    "import matplotlib.pyplot as plt\n",
    "from matplotlib.ticker import StrMethodFormatter, FormatStrFormatter\n",
    "import seaborn as sns\n",
    "import os\n",
    "import glob\n",
    "from tqdm import tqdm\n",
    "from matplotlib import cm, colors\n",
    "\n",
    "import vrlatency as vrl"
   ]
  },
  {
   "cell_type": "markdown",
   "metadata": {},
   "source": [
    "## Import Data"
   ]
  },
  {
   "cell_type": "code",
   "execution_count": 2,
   "metadata": {},
   "outputs": [],
   "source": [
    "path_data = \"../../data/\"\n",
    "path_fig = \"../../Figures/display/\"\n",
    "\n",
    "os.chdir(path_data)"
   ]
  },
  {
   "cell_type": "code",
   "execution_count": 3,
   "metadata": {},
   "outputs": [
    {
     "name": "stderr",
     "output_type": "stream",
     "text": [
      "100%|██████████████████████████████████████████████████████████████████████████████████| 28/28 [00:14<00:00,  2.00it/s]\n"
     ]
    }
   ],
   "source": [
    "df_data_all = pd.DataFrame()\n",
    "df_params_all = pd.DataFrame()\n",
    "\n",
    "for filename in tqdm(glob.glob('*.csv')):\n",
    "    name = filename.split('.')[0]\n",
    "    \n",
    "    df_data = vrl.read_csv(filename)\n",
    "    df_data['Session'] = name\n",
    "    params = vrl.read_params(filename)\n",
    "    params_series = pd.Series(params)\n",
    "    params_series.name = name\n",
    "    \n",
    "    df_data_all = df_data_all.append(df_data)\n",
    "    df_params_all = df_params_all.append(params_series)"
   ]
  },
  {
   "cell_type": "code",
   "execution_count": 4,
   "metadata": {},
   "outputs": [
    {
     "data": {
      "text/html": [
       "<div>\n",
       "<style scoped>\n",
       "    .dataframe tbody tr th:only-of-type {\n",
       "        vertical-align: middle;\n",
       "    }\n",
       "\n",
       "    .dataframe tbody tr th {\n",
       "        vertical-align: top;\n",
       "    }\n",
       "\n",
       "    .dataframe thead th {\n",
       "        text-align: right;\n",
       "    }\n",
       "</style>\n",
       "<table border=\"1\" class=\"dataframe\">\n",
       "  <thead>\n",
       "    <tr style=\"text-align: right;\">\n",
       "      <th></th>\n",
       "      <th>Date</th>\n",
       "      <th>Depth</th>\n",
       "      <th>Experiment</th>\n",
       "      <th>Height</th>\n",
       "      <th>Monitors</th>\n",
       "      <th>Rate</th>\n",
       "      <th>Time</th>\n",
       "      <th>Trials</th>\n",
       "      <th>Width</th>\n",
       "    </tr>\n",
       "  </thead>\n",
       "  <tbody>\n",
       "    <tr>\n",
       "      <th>display_20180830_115317</th>\n",
       "      <td>30.08.2018</td>\n",
       "      <td>32</td>\n",
       "      <td>DisplayExperiment</td>\n",
       "      <td>1080</td>\n",
       "      <td>SAM_SycMastr_H9XS904970 | VX_ROCtr_16843009</td>\n",
       "      <td>60</td>\n",
       "      <td>11:51:10</td>\n",
       "      <td>1000</td>\n",
       "      <td>1920</td>\n",
       "    </tr>\n",
       "    <tr>\n",
       "      <th>display_20180830_123133</th>\n",
       "      <td>30.08.2018</td>\n",
       "      <td>32</td>\n",
       "      <td>DisplayExperiment</td>\n",
       "      <td>1080</td>\n",
       "      <td>SAM_SycMastr_H9XS904970 | VX_ROCtr_16843009</td>\n",
       "      <td>120</td>\n",
       "      <td>12:29:25</td>\n",
       "      <td>1000</td>\n",
       "      <td>1920</td>\n",
       "    </tr>\n",
       "    <tr>\n",
       "      <th>display_20180830_123445</th>\n",
       "      <td>30.08.2018</td>\n",
       "      <td>32</td>\n",
       "      <td>DisplayExperiment</td>\n",
       "      <td>1024</td>\n",
       "      <td>SAM_SycMastr_H9XS904970 | VX_ROCtr_16843009</td>\n",
       "      <td>60</td>\n",
       "      <td>12:32:37</td>\n",
       "      <td>1000</td>\n",
       "      <td>1280</td>\n",
       "    </tr>\n",
       "    <tr>\n",
       "      <th>display_20180830_124007</th>\n",
       "      <td>30.08.2018</td>\n",
       "      <td>32</td>\n",
       "      <td>DisplayExperiment</td>\n",
       "      <td>720</td>\n",
       "      <td>SAM_SycMastr_H9XS904970 | VX_ROCtr_16843009</td>\n",
       "      <td>60</td>\n",
       "      <td>12:37:59</td>\n",
       "      <td>1000</td>\n",
       "      <td>1280</td>\n",
       "    </tr>\n",
       "    <tr>\n",
       "      <th>display_20180830_124242</th>\n",
       "      <td>30.08.2018</td>\n",
       "      <td>32</td>\n",
       "      <td>DisplayExperiment</td>\n",
       "      <td>768</td>\n",
       "      <td>SAM_SycMastr_H9XS904970 | VX_ROCtr_16843009</td>\n",
       "      <td>60</td>\n",
       "      <td>12:40:34</td>\n",
       "      <td>1000</td>\n",
       "      <td>1024</td>\n",
       "    </tr>\n",
       "  </tbody>\n",
       "</table>\n",
       "</div>"
      ],
      "text/plain": [
       "                               Date Depth         Experiment Height  \\\n",
       "display_20180830_115317  30.08.2018    32  DisplayExperiment   1080   \n",
       "display_20180830_123133  30.08.2018    32  DisplayExperiment   1080   \n",
       "display_20180830_123445  30.08.2018    32  DisplayExperiment   1024   \n",
       "display_20180830_124007  30.08.2018    32  DisplayExperiment    720   \n",
       "display_20180830_124242  30.08.2018    32  DisplayExperiment    768   \n",
       "\n",
       "                                                            Monitors Rate  \\\n",
       "display_20180830_115317  SAM_SycMastr_H9XS904970 | VX_ROCtr_16843009   60   \n",
       "display_20180830_123133  SAM_SycMastr_H9XS904970 | VX_ROCtr_16843009  120   \n",
       "display_20180830_123445  SAM_SycMastr_H9XS904970 | VX_ROCtr_16843009   60   \n",
       "display_20180830_124007  SAM_SycMastr_H9XS904970 | VX_ROCtr_16843009   60   \n",
       "display_20180830_124242  SAM_SycMastr_H9XS904970 | VX_ROCtr_16843009   60   \n",
       "\n",
       "                             Time Trials Width  \n",
       "display_20180830_115317  11:51:10   1000  1920  \n",
       "display_20180830_123133  12:29:25   1000  1920  \n",
       "display_20180830_123445  12:32:37   1000  1280  \n",
       "display_20180830_124007  12:37:59   1000  1280  \n",
       "display_20180830_124242  12:40:34   1000  1024  "
      ]
     },
     "execution_count": 4,
     "metadata": {},
     "output_type": "execute_result"
    }
   ],
   "source": [
    "df_params_all.head()"
   ]
  },
  {
   "cell_type": "markdown",
   "metadata": {},
   "source": [
    "## Fix Params dataframe dtypes"
   ]
  },
  {
   "cell_type": "code",
   "execution_count": 5,
   "metadata": {},
   "outputs": [
    {
     "data": {
      "text/plain": [
       "Depth                  int32\n",
       "Experiment            object\n",
       "Height                 int32\n",
       "Monitors              object\n",
       "Rate                   int32\n",
       "Trials                 int32\n",
       "Width                  int32\n",
       "Timestamp     datetime64[ns]\n",
       "dtype: object"
      ]
     },
     "execution_count": 5,
     "metadata": {},
     "output_type": "execute_result"
    }
   ],
   "source": [
    "dfp = df_params_all.copy()\n",
    "int_params = ['Width', 'Height', 'Depth', 'Rate', 'Trials']\n",
    "dfp[int_params] = df_params_all[int_params].astype(int)\n",
    "dfp['Timestamp'] = pd.to_datetime(df_params_all.Date.str.cat(df_params_all.Time, sep=' '), format=\"%d.%m.%Y %H:%M:%S\")\n",
    "del dfp['Time']\n",
    "del dfp['Date']\n",
    "dfp.head().dtypes"
   ]
  },
  {
   "cell_type": "markdown",
   "metadata": {},
   "source": [
    "## Data Transformation"
   ]
  },
  {
   "cell_type": "code",
   "execution_count": 6,
   "metadata": {},
   "outputs": [
    {
     "data": {
      "text/html": [
       "<div>\n",
       "<style scoped>\n",
       "    .dataframe tbody tr th:only-of-type {\n",
       "        vertical-align: middle;\n",
       "    }\n",
       "\n",
       "    .dataframe tbody tr th {\n",
       "        vertical-align: top;\n",
       "    }\n",
       "\n",
       "    .dataframe thead th {\n",
       "        text-align: right;\n",
       "    }\n",
       "</style>\n",
       "<table border=\"1\" class=\"dataframe\">\n",
       "  <thead>\n",
       "    <tr style=\"text-align: right;\">\n",
       "      <th></th>\n",
       "      <th>Depth</th>\n",
       "      <th>Experiment</th>\n",
       "      <th>Height</th>\n",
       "      <th>Monitors</th>\n",
       "      <th>Rate</th>\n",
       "      <th>Trials</th>\n",
       "      <th>Width</th>\n",
       "      <th>Timestamp</th>\n",
       "      <th>Pixels</th>\n",
       "    </tr>\n",
       "  </thead>\n",
       "  <tbody>\n",
       "    <tr>\n",
       "      <th>display_20180830_115317</th>\n",
       "      <td>32</td>\n",
       "      <td>DisplayExperiment</td>\n",
       "      <td>1080</td>\n",
       "      <td>SAM_SycMastr_H9XS904970 | VX_ROCtr_16843009</td>\n",
       "      <td>60</td>\n",
       "      <td>1000</td>\n",
       "      <td>1920</td>\n",
       "      <td>2018-08-30 11:51:10</td>\n",
       "      <td>2073600</td>\n",
       "    </tr>\n",
       "    <tr>\n",
       "      <th>display_20180830_123133</th>\n",
       "      <td>32</td>\n",
       "      <td>DisplayExperiment</td>\n",
       "      <td>1080</td>\n",
       "      <td>SAM_SycMastr_H9XS904970 | VX_ROCtr_16843009</td>\n",
       "      <td>120</td>\n",
       "      <td>1000</td>\n",
       "      <td>1920</td>\n",
       "      <td>2018-08-30 12:29:25</td>\n",
       "      <td>2073600</td>\n",
       "    </tr>\n",
       "    <tr>\n",
       "      <th>display_20180830_123445</th>\n",
       "      <td>32</td>\n",
       "      <td>DisplayExperiment</td>\n",
       "      <td>1024</td>\n",
       "      <td>SAM_SycMastr_H9XS904970 | VX_ROCtr_16843009</td>\n",
       "      <td>60</td>\n",
       "      <td>1000</td>\n",
       "      <td>1280</td>\n",
       "      <td>2018-08-30 12:32:37</td>\n",
       "      <td>1310720</td>\n",
       "    </tr>\n",
       "  </tbody>\n",
       "</table>\n",
       "</div>"
      ],
      "text/plain": [
       "                         Depth         Experiment  Height  \\\n",
       "display_20180830_115317     32  DisplayExperiment    1080   \n",
       "display_20180830_123133     32  DisplayExperiment    1080   \n",
       "display_20180830_123445     32  DisplayExperiment    1024   \n",
       "\n",
       "                                                            Monitors  Rate  \\\n",
       "display_20180830_115317  SAM_SycMastr_H9XS904970 | VX_ROCtr_16843009    60   \n",
       "display_20180830_123133  SAM_SycMastr_H9XS904970 | VX_ROCtr_16843009   120   \n",
       "display_20180830_123445  SAM_SycMastr_H9XS904970 | VX_ROCtr_16843009    60   \n",
       "\n",
       "                         Trials  Width           Timestamp   Pixels  \n",
       "display_20180830_115317    1000   1920 2018-08-30 11:51:10  2073600  \n",
       "display_20180830_123133    1000   1920 2018-08-30 12:29:25  2073600  \n",
       "display_20180830_123445    1000   1280 2018-08-30 12:32:37  1310720  "
      ]
     },
     "execution_count": 6,
     "metadata": {},
     "output_type": "execute_result"
    }
   ],
   "source": [
    "dfp['Pixels'] = dfp['Height'] * dfp['Width']\n",
    "dfp.head(3)"
   ]
  },
  {
   "cell_type": "code",
   "execution_count": 7,
   "metadata": {},
   "outputs": [
    {
     "data": {
      "text/html": [
       "<div>\n",
       "<style scoped>\n",
       "    .dataframe tbody tr th:only-of-type {\n",
       "        vertical-align: middle;\n",
       "    }\n",
       "\n",
       "    .dataframe tbody tr th {\n",
       "        vertical-align: top;\n",
       "    }\n",
       "\n",
       "    .dataframe thead th {\n",
       "        text-align: right;\n",
       "    }\n",
       "</style>\n",
       "<table border=\"1\" class=\"dataframe\">\n",
       "  <thead>\n",
       "    <tr style=\"text-align: right;\">\n",
       "      <th></th>\n",
       "      <th>Trial</th>\n",
       "      <th>Time</th>\n",
       "      <th>SensorBrightness</th>\n",
       "      <th>Session</th>\n",
       "      <th>TrialTime</th>\n",
       "      <th>Sample</th>\n",
       "    </tr>\n",
       "  </thead>\n",
       "  <tbody>\n",
       "    <tr>\n",
       "      <th>0</th>\n",
       "      <td>2</td>\n",
       "      <td>813.068</td>\n",
       "      <td>0</td>\n",
       "      <td>display_20180830_115317</td>\n",
       "      <td>0.000</td>\n",
       "      <td>0</td>\n",
       "    </tr>\n",
       "    <tr>\n",
       "      <th>1</th>\n",
       "      <td>2</td>\n",
       "      <td>813.340</td>\n",
       "      <td>0</td>\n",
       "      <td>display_20180830_115317</td>\n",
       "      <td>0.272</td>\n",
       "      <td>1</td>\n",
       "    </tr>\n",
       "    <tr>\n",
       "      <th>2</th>\n",
       "      <td>2</td>\n",
       "      <td>813.612</td>\n",
       "      <td>0</td>\n",
       "      <td>display_20180830_115317</td>\n",
       "      <td>0.544</td>\n",
       "      <td>2</td>\n",
       "    </tr>\n",
       "    <tr>\n",
       "      <th>3</th>\n",
       "      <td>2</td>\n",
       "      <td>813.884</td>\n",
       "      <td>0</td>\n",
       "      <td>display_20180830_115317</td>\n",
       "      <td>0.816</td>\n",
       "      <td>3</td>\n",
       "    </tr>\n",
       "    <tr>\n",
       "      <th>4</th>\n",
       "      <td>2</td>\n",
       "      <td>814.156</td>\n",
       "      <td>0</td>\n",
       "      <td>display_20180830_115317</td>\n",
       "      <td>1.088</td>\n",
       "      <td>4</td>\n",
       "    </tr>\n",
       "  </tbody>\n",
       "</table>\n",
       "</div>"
      ],
      "text/plain": [
       "   Trial     Time  SensorBrightness                  Session  TrialTime  \\\n",
       "0      2  813.068                 0  display_20180830_115317      0.000   \n",
       "1      2  813.340                 0  display_20180830_115317      0.272   \n",
       "2      2  813.612                 0  display_20180830_115317      0.544   \n",
       "3      2  813.884                 0  display_20180830_115317      0.816   \n",
       "4      2  814.156                 0  display_20180830_115317      1.088   \n",
       "\n",
       "   Sample  \n",
       "0       0  \n",
       "1       1  \n",
       "2       2  \n",
       "3       3  \n",
       "4       4  "
      ]
     },
     "execution_count": 7,
     "metadata": {},
     "output_type": "execute_result"
    }
   ],
   "source": [
    "df= df_data_all.copy()\n",
    "df['Time'] = df['Time'] / 1000\n",
    "trials = df.groupby(['Session', 'Trial'])\n",
    "df['TrialTime'] = trials.Time.apply(lambda x: x - x.min())\n",
    "df['Sample'] = trials.cumcount()\n",
    "df['Session'] = pd.Categorical(df['Session'])\n",
    "df.head()"
   ]
  },
  {
   "cell_type": "code",
   "execution_count": 8,
   "metadata": {},
   "outputs": [
    {
     "data": {
      "text/html": [
       "<div>\n",
       "<style scoped>\n",
       "    .dataframe tbody tr th:only-of-type {\n",
       "        vertical-align: middle;\n",
       "    }\n",
       "\n",
       "    .dataframe tbody tr th {\n",
       "        vertical-align: top;\n",
       "    }\n",
       "\n",
       "    .dataframe thead th {\n",
       "        text-align: right;\n",
       "    }\n",
       "</style>\n",
       "<table border=\"1\" class=\"dataframe\">\n",
       "  <thead>\n",
       "    <tr style=\"text-align: right;\">\n",
       "      <th></th>\n",
       "      <th>Session</th>\n",
       "      <th>Trial</th>\n",
       "      <th>Sample</th>\n",
       "      <th>Time</th>\n",
       "      <th>TrialTime</th>\n",
       "      <th>SensorBrightness</th>\n",
       "    </tr>\n",
       "  </thead>\n",
       "  <tbody>\n",
       "    <tr>\n",
       "      <th>0</th>\n",
       "      <td>display_20180830_115317</td>\n",
       "      <td>2</td>\n",
       "      <td>0</td>\n",
       "      <td>813.068</td>\n",
       "      <td>0.000</td>\n",
       "      <td>0</td>\n",
       "    </tr>\n",
       "    <tr>\n",
       "      <th>1</th>\n",
       "      <td>display_20180830_115317</td>\n",
       "      <td>2</td>\n",
       "      <td>1</td>\n",
       "      <td>813.340</td>\n",
       "      <td>0.272</td>\n",
       "      <td>0</td>\n",
       "    </tr>\n",
       "    <tr>\n",
       "      <th>2</th>\n",
       "      <td>display_20180830_115317</td>\n",
       "      <td>2</td>\n",
       "      <td>2</td>\n",
       "      <td>813.612</td>\n",
       "      <td>0.544</td>\n",
       "      <td>0</td>\n",
       "    </tr>\n",
       "    <tr>\n",
       "      <th>3</th>\n",
       "      <td>display_20180830_115317</td>\n",
       "      <td>2</td>\n",
       "      <td>3</td>\n",
       "      <td>813.884</td>\n",
       "      <td>0.816</td>\n",
       "      <td>0</td>\n",
       "    </tr>\n",
       "    <tr>\n",
       "      <th>4</th>\n",
       "      <td>display_20180830_115317</td>\n",
       "      <td>2</td>\n",
       "      <td>4</td>\n",
       "      <td>814.156</td>\n",
       "      <td>1.088</td>\n",
       "      <td>0</td>\n",
       "    </tr>\n",
       "  </tbody>\n",
       "</table>\n",
       "</div>"
      ],
      "text/plain": [
       "                   Session  Trial  Sample     Time  TrialTime  \\\n",
       "0  display_20180830_115317      2       0  813.068      0.000   \n",
       "1  display_20180830_115317      2       1  813.340      0.272   \n",
       "2  display_20180830_115317      2       2  813.612      0.544   \n",
       "3  display_20180830_115317      2       3  813.884      0.816   \n",
       "4  display_20180830_115317      2       4  814.156      1.088   \n",
       "\n",
       "   SensorBrightness  \n",
       "0                 0  \n",
       "1                 0  \n",
       "2                 0  \n",
       "3                 0  \n",
       "4                 0  "
      ]
     },
     "execution_count": 8,
     "metadata": {},
     "output_type": "execute_result"
    }
   ],
   "source": [
    "df = df.reindex(['Session', 'Trial', 'Sample', 'Time', 'TrialTime', 'SensorBrightness'], axis=1)\n",
    "df.head()"
   ]
  },
  {
   "cell_type": "markdown",
   "metadata": {},
   "source": [
    "Time to beat:"
   ]
  },
  {
   "cell_type": "code",
   "execution_count": 9,
   "metadata": {},
   "outputs": [],
   "source": [
    "# %timeit vrl.get_display_latencies(dd)"
   ]
  },
  {
   "cell_type": "markdown",
   "metadata": {},
   "source": [
    "current time:"
   ]
  },
  {
   "cell_type": "code",
   "execution_count": 10,
   "metadata": {},
   "outputs": [],
   "source": [
    "# %load_ext line_profiler"
   ]
  },
  {
   "cell_type": "code",
   "execution_count": 11,
   "metadata": {},
   "outputs": [],
   "source": [
    "# %timeit vrl.get_display_latencies(dd)"
   ]
  },
  {
   "cell_type": "code",
   "execution_count": 12,
   "metadata": {},
   "outputs": [],
   "source": [
    "# %lprun -f vrl.get_display_latencies vrl.get_display_latencies(dd)"
   ]
  },
  {
   "cell_type": "code",
   "execution_count": 9,
   "metadata": {},
   "outputs": [
    {
     "data": {
      "text/html": [
       "<div>\n",
       "<style scoped>\n",
       "    .dataframe tbody tr th:only-of-type {\n",
       "        vertical-align: middle;\n",
       "    }\n",
       "\n",
       "    .dataframe tbody tr th {\n",
       "        vertical-align: top;\n",
       "    }\n",
       "\n",
       "    .dataframe thead th {\n",
       "        text-align: right;\n",
       "    }\n",
       "</style>\n",
       "<table border=\"1\" class=\"dataframe\">\n",
       "  <thead>\n",
       "    <tr style=\"text-align: right;\">\n",
       "      <th></th>\n",
       "      <th>Session</th>\n",
       "      <th>Trial</th>\n",
       "      <th>DisplayLatency</th>\n",
       "    </tr>\n",
       "  </thead>\n",
       "  <tbody>\n",
       "    <tr>\n",
       "      <th>0</th>\n",
       "      <td>display_20180830_115317</td>\n",
       "      <td>2</td>\n",
       "      <td>38.488</td>\n",
       "    </tr>\n",
       "    <tr>\n",
       "      <th>1</th>\n",
       "      <td>display_20180830_115317</td>\n",
       "      <td>3</td>\n",
       "      <td>29.504</td>\n",
       "    </tr>\n",
       "    <tr>\n",
       "      <th>2</th>\n",
       "      <td>display_20180830_115317</td>\n",
       "      <td>4</td>\n",
       "      <td>28.664</td>\n",
       "    </tr>\n",
       "    <tr>\n",
       "      <th>3</th>\n",
       "      <td>display_20180830_115317</td>\n",
       "      <td>5</td>\n",
       "      <td>19.376</td>\n",
       "    </tr>\n",
       "    <tr>\n",
       "      <th>4</th>\n",
       "      <td>display_20180830_115317</td>\n",
       "      <td>6</td>\n",
       "      <td>34.672</td>\n",
       "    </tr>\n",
       "  </tbody>\n",
       "</table>\n",
       "</div>"
      ],
      "text/plain": [
       "                   Session  Trial  DisplayLatency\n",
       "0  display_20180830_115317      2          38.488\n",
       "1  display_20180830_115317      3          29.504\n",
       "2  display_20180830_115317      4          28.664\n",
       "3  display_20180830_115317      5          19.376\n",
       "4  display_20180830_115317      6          34.672"
      ]
     },
     "execution_count": 9,
     "metadata": {},
     "output_type": "execute_result"
    }
   ],
   "source": [
    "thresh=.75\n",
    "latencies = df.groupby('Session').apply(vrl.get_display_latencies, thresh=thresh).reset_index()\n",
    "# latencies.name = 'DisplayLatency'\n",
    "# latencies = latencies.reset_index()\n",
    "latencies.head()"
   ]
  },
  {
   "cell_type": "code",
   "execution_count": 10,
   "metadata": {},
   "outputs": [
    {
     "data": {
      "text/html": [
       "<div>\n",
       "<style scoped>\n",
       "    .dataframe tbody tr th:only-of-type {\n",
       "        vertical-align: middle;\n",
       "    }\n",
       "\n",
       "    .dataframe tbody tr th {\n",
       "        vertical-align: top;\n",
       "    }\n",
       "\n",
       "    .dataframe thead th {\n",
       "        text-align: right;\n",
       "    }\n",
       "</style>\n",
       "<table border=\"1\" class=\"dataframe\">\n",
       "  <thead>\n",
       "    <tr style=\"text-align: right;\">\n",
       "      <th></th>\n",
       "      <th>Session</th>\n",
       "      <th>Trial</th>\n",
       "      <th>Sample</th>\n",
       "      <th>Time</th>\n",
       "      <th>TrialTime</th>\n",
       "      <th>SensorBrightness</th>\n",
       "      <th>DisplayLatency</th>\n",
       "      <th>TrialTransitionTime</th>\n",
       "    </tr>\n",
       "  </thead>\n",
       "  <tbody>\n",
       "    <tr>\n",
       "      <th>0</th>\n",
       "      <td>display_20180830_115317</td>\n",
       "      <td>2</td>\n",
       "      <td>0</td>\n",
       "      <td>813.068</td>\n",
       "      <td>0.000</td>\n",
       "      <td>0</td>\n",
       "      <td>38.488</td>\n",
       "      <td>-38.488</td>\n",
       "    </tr>\n",
       "    <tr>\n",
       "      <th>1</th>\n",
       "      <td>display_20180830_115317</td>\n",
       "      <td>2</td>\n",
       "      <td>1</td>\n",
       "      <td>813.340</td>\n",
       "      <td>0.272</td>\n",
       "      <td>0</td>\n",
       "      <td>38.488</td>\n",
       "      <td>-38.216</td>\n",
       "    </tr>\n",
       "    <tr>\n",
       "      <th>2</th>\n",
       "      <td>display_20180830_115317</td>\n",
       "      <td>2</td>\n",
       "      <td>2</td>\n",
       "      <td>813.612</td>\n",
       "      <td>0.544</td>\n",
       "      <td>0</td>\n",
       "      <td>38.488</td>\n",
       "      <td>-37.944</td>\n",
       "    </tr>\n",
       "    <tr>\n",
       "      <th>3</th>\n",
       "      <td>display_20180830_115317</td>\n",
       "      <td>2</td>\n",
       "      <td>3</td>\n",
       "      <td>813.884</td>\n",
       "      <td>0.816</td>\n",
       "      <td>0</td>\n",
       "      <td>38.488</td>\n",
       "      <td>-37.672</td>\n",
       "    </tr>\n",
       "    <tr>\n",
       "      <th>4</th>\n",
       "      <td>display_20180830_115317</td>\n",
       "      <td>2</td>\n",
       "      <td>4</td>\n",
       "      <td>814.156</td>\n",
       "      <td>1.088</td>\n",
       "      <td>0</td>\n",
       "      <td>38.488</td>\n",
       "      <td>-37.400</td>\n",
       "    </tr>\n",
       "  </tbody>\n",
       "</table>\n",
       "</div>"
      ],
      "text/plain": [
       "                   Session  Trial  Sample     Time  TrialTime  \\\n",
       "0  display_20180830_115317      2       0  813.068      0.000   \n",
       "1  display_20180830_115317      2       1  813.340      0.272   \n",
       "2  display_20180830_115317      2       2  813.612      0.544   \n",
       "3  display_20180830_115317      2       3  813.884      0.816   \n",
       "4  display_20180830_115317      2       4  814.156      1.088   \n",
       "\n",
       "   SensorBrightness  DisplayLatency  TrialTransitionTime  \n",
       "0                 0          38.488              -38.488  \n",
       "1                 0          38.488              -38.216  \n",
       "2                 0          38.488              -37.944  \n",
       "3                 0          38.488              -37.672  \n",
       "4                 0          38.488              -37.400  "
      ]
     },
     "execution_count": 10,
     "metadata": {},
     "output_type": "execute_result"
    }
   ],
   "source": [
    "dfl = pd.merge(df, latencies, on=['Session', 'Trial'])\n",
    "dfl['TrialTransitionTime'] = dfl['TrialTime'] - dfl['DisplayLatency']\n",
    "dfl.head()"
   ]
  },
  {
   "cell_type": "markdown",
   "metadata": {},
   "source": [
    "---"
   ]
  },
  {
   "cell_type": "markdown",
   "metadata": {},
   "source": [
    "## Session Analysis"
   ]
  },
  {
   "cell_type": "code",
   "execution_count": null,
   "metadata": {},
   "outputs": [],
   "source": [
    "sess_id = 16  # Choose the session\n",
    "session = dfp.iloc[sess_id].name\n",
    "dd = dfl[dfl['Session'] == session].copy()\n",
    "\n",
    "fig, (ax1, ax2, ax3) = plt.subplots(nrows=3)\n",
    "\n",
    "s2 = dd[dd.DisplayLatency == dd.DisplayLatency.min()].SensorBrightness.values\n",
    "\n",
    "for trialnum in range(dd.Trial.min(), dd.Trial.max(), 20):\n",
    "    s1 = dd[dd.Trial==trialnum].SensorBrightness.values\n",
    "\n",
    "    ax1.plot(s1)\n",
    "    ax1.plot(s2)\n",
    "\n",
    "    offsets = 100    \n",
    "    s1_mat = np.ndarray(buffer=s1, shape=(len(s1)-offsets, offsets), strides=(8, 8), dtype=s1.dtype)\n",
    "    residuals = np.sum((s1_mat.T - s2[:-offsets]) ** 2, axis=1)\n",
    "\n",
    "    ax2.plot(residuals)\n",
    "\n",
    "    sampling_rate = np.diff(dd.TrialTime.values[:2])[0]\n",
    "    ax3.plot(s1[np.argmin(residuals):])\n",
    "    ax3.plot(s2)"
   ]
  },
  {
   "cell_type": "code",
   "execution_count": 80,
   "metadata": {},
   "outputs": [
    {
     "name": "stderr",
     "output_type": "stream",
     "text": [
      "c:\\users\\mohammad bashiri\\anaconda3\\envs\\vrlatency3\\lib\\site-packages\\ipykernel_launcher.py:28: SettingWithCopyWarning: \n",
      "A value is trying to be set on a copy of a slice from a DataFrame.\n",
      "Try using .loc[row_indexer,col_indexer] = value instead\n",
      "\n",
      "See the caveats in the documentation: http://pandas.pydata.org/pandas-docs/stable/indexing.html#indexing-view-versus-copy\n"
     ]
    },
    {
     "data": {
      "text/plain": [
       "[<matplotlib.lines.Line2D at 0x1d1cf74d710>]"
      ]
     },
     "execution_count": 80,
     "metadata": {},
     "output_type": "execute_result"
    },
    {
     "data": {
      "image/png": "[encoded data removed]",
      "text/plain": [
       "<Figure size 432x288 with 4 Axes>"
      ]
     },
     "metadata": {
      "needs_background": "light"
     },
     "output_type": "display_data"
    }
   ],
   "source": [
    "sess_id = 25  # Choose the session\n",
    "session = dfp.iloc[sess_id].name\n",
    "dd = dfl[dfl['Session'] == session].copy()\n",
    "\n",
    "fig, (ax1, ax2, ax3, ax4) = plt.subplots(nrows=4)\n",
    "\n",
    "ref_trial = dd[dd.DisplayLatency == dd.DisplayLatency.max()]\n",
    "s2 = ref_trial.SensorBrightness.values\n",
    "\n",
    "# for trialnum in range(dd.Trial.min(), dd.Trial.max(), 20):\n",
    "\n",
    "trialnum = 10\n",
    "trial1 = dd[dd.Trial==trialnum]\n",
    "s1 = trial1.SensorBrightness.values\n",
    "\n",
    "ax1.plot(ref_trial.TrialTime, ref_trial.SensorBrightness)\n",
    "ax1.plot(trial1.TrialTime, trial1.SensorBrightness)\n",
    "\n",
    "offsets = 50    \n",
    "s1_mat = np.ndarray(buffer=s1, shape=(len(s1)-offsets, offsets), strides=(8, 8), dtype=s1.dtype)\n",
    "residuals = np.sum((s1_mat.T - s2[offsets//2:-offsets//2]) ** 2, axis=1)\n",
    "\n",
    "ax2.plot(s2[offsets//2:-offsets//2])\n",
    "\n",
    "ax3.plot(residuals)\n",
    "\n",
    "sampling_rate = np.diff(dd.TrialTime.values[:2])[0]   \n",
    "trial1['TrialTransitionTime'] = dd['TrialTime'] - (np.argmin(residuals)  + offsets//2)  * sampling_rate\n",
    "ax4.plot(trial1.TrialTransitionTime.values, trial1.SensorBrightness.values)"
   ]
  },
  {
   "cell_type": "code",
   "execution_count": 11,
   "metadata": {},
   "outputs": [],
   "source": [
    "def shift_by_cross_corr(x1, x2, win=100):\n",
    "    x1_mat = np.ndarray(buffer=x1, shape=(len(x1)-win, win), strides=(8, 8), dtype=x1.dtype)  # Rolling backwards\n",
    "    return np.sum((x1_mat.T - x2[win//2:-win//2]) ** 2, axis=1)"
   ]
  },
  {
   "cell_type": "code",
   "execution_count": 12,
   "metadata": {},
   "outputs": [],
   "source": [
    "def find_global_minimum(x):\n",
    "    dx, ddx = np.diff(x), np.diff(x, 2)\n",
    "    is_zerocrossing = (dx[1:] * dx[:-1]) < 0\n",
    "    is_positive_slope = ddx > 0\n",
    "    is_local_minimum = is_zerocrossing & is_positive_slope\n",
    "\n",
    "    local_minimum_indices = np.where(is_local_minimum)[0] + 1\n",
    "    global_minimum_indices = local_minimum_indices[np.argmin(x[local_minimum_indices])]\n",
    "    global_minimum_index = int(global_minimum_indices)\n",
    "    return global_minimum_index"
   ]
  },
  {
   "cell_type": "code",
   "execution_count": 13,
   "metadata": {},
   "outputs": [],
   "source": [
    "my_cmap = plt.cm.gray_r\n",
    "my_cmap.set_bad(color='w')"
   ]
  },
  {
   "cell_type": "code",
   "execution_count": 14,
   "metadata": {},
   "outputs": [
    {
     "data": {
      "image/png": "[encoded data removed]",
      "text/plain": [
       "<Figure size 720x360 with 2 Axes>"
      ]
     },
     "metadata": {
      "needs_background": "light"
     },
     "output_type": "display_data"
    }
   ],
   "source": [
    "sess_id = 27  # Choose the session\n",
    "session = dfp.iloc[sess_id].name\n",
    "dd = dfl[dfl['Session'] == session].copy()\n",
    "\n",
    "sampling_rate = np.diff(dd.TrialTime.values[:2])[0]\n",
    "\n",
    "query = '(-5 < TrialTransitionTime) & (TrialTransitionTime < 5)'\n",
    "dd2 = dd.query(query)\n",
    "\n",
    "ref_trial = dd2[dd2.DisplayLatency == dd2.DisplayLatency.min()]  # Min latency used as reference\n",
    "ref_sensor = ref_trial['SensorBrightness'].values\n",
    "\n",
    "winsize = 30\n",
    "for trialnum, trial in dd2.groupby('Trial'):\n",
    "    test_sensor = trial['SensorBrightness'].values\n",
    "    residuals = shift_by_cross_corr(test_sensor, ref_sensor, win=winsize)\n",
    "    minimum = find_global_minimum(residuals) \n",
    "    offset = minimum - winsize//2\n",
    "    dd.loc[dd.Trial == trialnum, 'TrialTransitionTime']  -= offset * sampling_rate\n",
    "\n",
    "\n",
    "fig, axes = plt.subplots(1, 2, figsize=(10, 5), gridspec_kw = {'width_ratios': [5, 2]}, sharey=True)\n",
    "ax1, ax2 = axes\n",
    "\n",
    "nsamples_per_trial = dd.groupby('Trial')['DisplayLatency'].agg(len).min()\n",
    "H, xedges, yedges = np.histogram2d(dd.TrialTime, dd.SensorBrightness, bins=(nsamples_per_trial, 200))\n",
    "H = H.T\n",
    "extent = [xedges[0], xedges[-1], yedges[0], yedges[-1]]\n",
    "\n",
    "ax1.imshow(H, interpolation='nearest', origin='low', cmap=my_cmap, aspect='auto', \n",
    "           extent=extent, norm=colors.LogNorm())\n",
    "mean_latency = dd.groupby('Trial').DisplayLatency.mean().mean()\n",
    "for trialnum, trial in dd.groupby('Trial'):\n",
    "    ax1.plot(trial.TrialTransitionTime + mean_latency, trial.SensorBrightness, c='r', linewidth=1, alpha=.01)\n",
    "\n",
    "ax1.hlines([vrl.perc_range(dd['SensorBrightness'], thresh)], *ax1.get_xlim(), 'b', label='Threshold', linewidth=2, linestyle='dotted');\n",
    "\n",
    "sns.distplot(dd['SensorBrightness'].values, ax=ax2, vertical=True, hist_kws={'color': 'k'}, kde_kws={'alpha': 0})\n",
    "ax2.set(xticklabels='')\n",
    "ax1.set(xlabel='Trial Time', ylabel='Time from trial onset (ms)')\n",
    "fig.suptitle(session, y=1.02)\n",
    "fig.tight_layout(w_pad=0)\n",
    "fig;"
   ]
  },
  {
   "cell_type": "markdown",
   "metadata": {},
   "source": [
    "----"
   ]
  },
  {
   "cell_type": "code",
   "execution_count": 59,
   "metadata": {},
   "outputs": [
    {
     "data": {
      "image/png": "[encoded data removed]",
      "text/plain": [
       "<Figure size 720x360 with 1 Axes>"
      ]
     },
     "metadata": {
      "needs_background": "light"
     },
     "output_type": "display_data"
    }
   ],
   "source": [
    "sess_id = 27  # Choose the session\n",
    "session = dfp.iloc[sess_id].name\n",
    "dd = dfl[dfl['Session'] == session].copy()\n",
    "\n",
    "sampling_rate = np.diff(dd.TrialTime.values[:2])[0]\n",
    "\n",
    "query = '(-5 < TrialTransitionTime) & (TrialTransitionTime < 5)'\n",
    "dd2 = dd.query(query)\n",
    "\n",
    "ref_trial = dd2[dd2.DisplayLatency == dd2.DisplayLatency.min()]  # Min latency used as reference\n",
    "ref_sensor = ref_trial['SensorBrightness'].values\n",
    "\n",
    "winsize = 30\n",
    "for trialnum, trial in dd2.groupby('Trial'):\n",
    "    test_sensor = trial['SensorBrightness'].values\n",
    "    residuals = shift_by_cross_corr(test_sensor, ref_sensor, win=winsize)\n",
    "    minimum = find_global_minimum(residuals) \n",
    "    offset = minimum - winsize//2\n",
    "    dd.loc[dd.Trial == trialnum, 'TrialTransitionTime']  -= offset * sampling_rate\n",
    "\n",
    "nsamples_per_trial = dd.groupby('Trial')['DisplayLatency'].agg(len).min()\n",
    "H, xedges, yedges = np.histogram2d(dd.TrialTime, dd.SensorBrightness, bins=(nsamples_per_trial, 200))\n",
    "H = H.T\n",
    "extent = [xedges[0], xedges[-1], yedges[0], yedges[-1]]\n",
    "\n",
    "fig, ax = plt.subplots(figsize=(10,5))\n",
    "\n",
    "ax.imshow(H, interpolation='nearest', origin='low', cmap=my_cmap, aspect='auto', \n",
    "          extent=extent, norm=colors.LogNorm())\n",
    "mean_latency = dd.groupby('Trial').DisplayLatency.mean().mean()\n",
    "for trialnum, trial in dd.groupby('Trial'):\n",
    "    ax.plot(trial.TrialTransitionTime + mean_latency, trial.SensorBrightness, c=color, linewidth=1, alpha=.01)\n",
    "\n",
    "# plt.tight_layout()"
   ]
  },
  {
   "cell_type": "code",
   "execution_count": 54,
   "metadata": {},
   "outputs": [
    {
     "data": {
      "image/png": "[encoded data removed]",
      "text/plain": [
       "<Figure size 720x360 with 1 Axes>"
      ]
     },
     "metadata": {
      "needs_background": "light"
     },
     "output_type": "display_data"
    }
   ],
   "source": [
    "x = dd.TrialTime # + dd.groupby('Trial').DisplayLatency.mean().mean()\n",
    "y = dd.SensorBrightness\n",
    "nsamples_per_trial = dd.groupby('Trial')['DisplayLatency'].agg(len).min()\n",
    "H, xedges, yedges = np.histogram2d(x, y, bins=(nsamples_per_trial, 200))\n",
    "H = H.T\n",
    "extent = [xedges[0], xedges[-1], yedges[0], yedges[-1]]\n",
    "\n",
    "fig, ax2 = plt.subplots(figsize=(10,5))\n",
    "\n",
    "ax2.imshow(H, interpolation='nearest', origin='low', cmap=my_cmap, aspect='auto', \n",
    "          extent=extent, norm=colors.LogNorm())\n",
    "mean_latency = dd.groupby('Trial').DisplayLatency.mean().mean()\n",
    "for trialnum, trial in dd.groupby('Trial'):\n",
    "    ax2.plot(trial.TrialTransitionTime + mean_latency, trial.SensorBrightness, c=color, linewidth=1, alpha=.01)\n",
    "\n",
    "plt.tight_layout()"
   ]
  },
  {
   "cell_type": "markdown",
   "metadata": {},
   "source": [
    "## Latencies"
   ]
  },
  {
   "cell_type": "code",
   "execution_count": null,
   "metadata": {},
   "outputs": [],
   "source": [
    "for sess_id in range(0, 28):\n",
    "    session = dfp.iloc[sess_id].name\n",
    "    dl = latencies[latencies['Session'] == session]\n",
    "\n",
    "    fig, axes= plt.subplots(1, 2, figsize=(10, 5), gridspec_kw = {'width_ratios': [2, 1]}, sharey=True)\n",
    "    (ax1, ax2) = axes\n",
    "\n",
    "    ax1.plot(dl['Trial'], dl['DisplayLatency'], c='k', linewidth=.5);\n",
    "    sns.distplot(dl['DisplayLatency'].dropna().values, hist=False, color=\"k\", kde_kws={\"linewidth\": 3, \"alpha\": 1}, \n",
    "                 ax=axes[1], vertical=True);\n",
    "    ax1.set(ylabel='Time from trial onset (ms)')\n",
    "    ax1.set_xlabel('Trial number')\n",
    "\n",
    "    fig.tight_layout(w_pad=0)\n",
    "    fig.suptitle(session, y=1.02)\n",
    "    fig;\n",
    "    plt.savefig(path_fig + session + '_' + str(sess_id) + '_latencies.png')"
   ]
  },
  {
   "cell_type": "markdown",
   "metadata": {},
   "source": [
    "---"
   ]
  },
  {
   "cell_type": "markdown",
   "metadata": {},
   "source": [
    "## Aggregation analysis"
   ]
  },
  {
   "cell_type": "code",
   "execution_count": null,
   "metadata": {},
   "outputs": [],
   "source": [
    "df_data = df_data_all.copy()\n",
    "df_params = df_params_all.copy()"
   ]
  },
  {
   "cell_type": "markdown",
   "metadata": {},
   "source": [
    "Merge the df_data_all with df_latency"
   ]
  },
  {
   "cell_type": "code",
   "execution_count": null,
   "metadata": {},
   "outputs": [],
   "source": [
    "df_data_latency = pd.merge(df_data_all, df_latency, on=['Session', 'Trial'])\n",
    "df_data_latency.tail()"
   ]
  },
  {
   "cell_type": "markdown",
   "metadata": {},
   "source": [
    "Merge the df_params_all with df_latency"
   ]
  },
  {
   "cell_type": "code",
   "execution_count": null,
   "metadata": {},
   "outputs": [],
   "source": [
    "df_params_latency = pd.merge(df_latency, df_params, on='Session')\n",
    "df_params_latency.head()"
   ]
  },
  {
   "cell_type": "markdown",
   "metadata": {},
   "source": [
    "Merge the df_data_latency with the df_params_all"
   ]
  },
  {
   "cell_type": "code",
   "execution_count": null,
   "metadata": {},
   "outputs": [],
   "source": [
    "df = pd.merge(df_data_latency, df_params, on='Session')\n",
    "df = df.rename(columns={'Time_x': 'Time', 'Time_y': 'Exp_Time'})\n",
    "df.head()"
   ]
  },
  {
   "cell_type": "markdown",
   "metadata": {},
   "source": [
    "---"
   ]
  },
  {
   "cell_type": "markdown",
   "metadata": {},
   "source": [
    "Now we have different dataframes available, we can chose one and perform out analysis on it"
   ]
  },
  {
   "cell_type": "code",
   "execution_count": null,
   "metadata": {},
   "outputs": [],
   "source": [
    "df = df_params_latency.copy()"
   ]
  },
  {
   "cell_type": "code",
   "execution_count": null,
   "metadata": {},
   "outputs": [],
   "source": [
    "grp = df.groupby('Session')\n",
    "dff = grp.get_group(20)\n",
    "sns.distplot(dff.Latency)"
   ]
  },
  {
   "cell_type": "code",
   "execution_count": null,
   "metadata": {},
   "outputs": [],
   "source": [
    "sns.catplot(x='Rate', y='Latency', hue='Session', kind=\"point\", data=df)"
   ]
  },
  {
   "cell_type": "markdown",
   "metadata": {},
   "source": [
    "## Same monitor, different parameters"
   ]
  },
  {
   "cell_type": "code",
   "execution_count": null,
   "metadata": {},
   "outputs": [],
   "source": [
    "df = df_params_latency.copy()"
   ]
  },
  {
   "cell_type": "code",
   "execution_count": null,
   "metadata": {},
   "outputs": [],
   "source": [
    "for ind, (name, dff) in enumerate(df.groupby('Monitors')):\n",
    "    print(ind, name)"
   ]
  },
  {
   "cell_type": "code",
   "execution_count": null,
   "metadata": {},
   "outputs": [],
   "source": [
    "grp = df.groupby('Monitors')\n",
    "name = list(grp)[0][0]\n",
    "df_mon = grp.get_group(name)\n",
    "df_mon.head()"
   ]
  },
  {
   "cell_type": "code",
   "execution_count": null,
   "metadata": {},
   "outputs": [],
   "source": [
    "for name, df_mon in df.groupby('Monitors'):\n",
    "    print('Monitor:', name)\n",
    "    try:\n",
    "        for (h, w), df_res in df_mon.groupby(['Height','Width']):\n",
    "            sns.distplot(df_res.Latency / 1000, hist=False, label=h + ' x ' + w)\n",
    "        \n",
    "        plt.title(name)\n",
    "        plt.xlabel('Latency (ms)')\n",
    "        plt.ylabel('Frequency')\n",
    "        plt.legend()\n",
    "        plt.savefig('C:/Users/Mohammad Bashiri/Desktop/single-mon' + name + '.png')\n",
    "        plt.show()\n",
    "    except ValueError:\n",
    "        pass"
   ]
  },
  {
   "cell_type": "code",
   "execution_count": null,
   "metadata": {},
   "outputs": [],
   "source": [
    "for name, df_mon in df.groupby('Monitors'):\n",
    "    print('Monitor:', name)\n",
    "    try:\n",
    "        sns.catplot(x='Width', y='Latency', hue='Rate', col='Height', kind=\"point\", data=df_mon)\n",
    "        \n",
    "#         plt.title(name)\n",
    "#         plt.legend()\n",
    "#         plt.savefig('C:/Users/Mohammad Bashiri/Desktop/single-mon' + name + '.png')\n",
    "        plt.show()\n",
    "    except ValueError:\n",
    "        pass"
   ]
  },
  {
   "cell_type": "code",
   "execution_count": null,
   "metadata": {},
   "outputs": [],
   "source": [
    "sns.catplot(x='Width', y='Latency', hue='Rate', col='Height', kind=\"box\", data=df_mon)"
   ]
  },
  {
   "cell_type": "markdown",
   "metadata": {},
   "source": [
    "## Same paramet different monitor"
   ]
  },
  {
   "cell_type": "code",
   "execution_count": null,
   "metadata": {},
   "outputs": [],
   "source": [
    "df = df_params_latency.copy()"
   ]
  },
  {
   "cell_type": "code",
   "execution_count": null,
   "metadata": {},
   "outputs": [],
   "source": [
    "grp = df.groupby(['Height', 'Width'])"
   ]
  },
  {
   "cell_type": "code",
   "execution_count": null,
   "metadata": {},
   "outputs": [],
   "source": [
    "for name, dff in grp:\n",
    "    print(name, dff.Monitors.unique())\n",
    "    sns.catplot(x='Rate', y='Latency', hue='Depth', kind='point', data=dff)"
   ]
  },
  {
   "cell_type": "code",
   "execution_count": null,
   "metadata": {},
   "outputs": [],
   "source": []
  },
  {
   "cell_type": "code",
   "execution_count": null,
   "metadata": {},
   "outputs": [],
   "source": []
  },
  {
   "cell_type": "code",
   "execution_count": null,
   "metadata": {},
   "outputs": [],
   "source": []
  },
  {
   "cell_type": "code",
   "execution_count": null,
   "metadata": {},
   "outputs": [],
   "source": []
  },
  {
   "cell_type": "code",
   "execution_count": null,
   "metadata": {},
   "outputs": [],
   "source": []
  },
  {
   "cell_type": "code",
   "execution_count": null,
   "metadata": {},
   "outputs": [],
   "source": []
  },
  {
   "cell_type": "code",
   "execution_count": null,
   "metadata": {},
   "outputs": [],
   "source": []
  },
  {
   "cell_type": "code",
   "execution_count": null,
   "metadata": {},
   "outputs": [],
   "source": []
  },
  {
   "cell_type": "code",
   "execution_count": null,
   "metadata": {},
   "outputs": [],
   "source": []
  }
 ],
 "metadata": {
  "kernelspec": {
   "display_name": "Python 3",
   "language": "python",
   "name": "python3"
  },
  "language_info": {
   "codemirror_mode": {
    "name": "ipython",
    "version": 3
   },
   "file_extension": ".py",
   "mimetype": "text/x-python",
   "name": "python",
   "nbconvert_exporter": "python",
   "pygments_lexer": "ipython3",
   "version": "3.6.5"
  }
 },
 "nbformat": 4,
 "nbformat_minor": 2
}
